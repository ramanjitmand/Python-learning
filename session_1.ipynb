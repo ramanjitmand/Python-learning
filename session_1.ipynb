{
 "cells": [
  {
   "cell_type": "code",
   "execution_count": 2,
   "id": "978e1021",
   "metadata": {},
   "outputs": [
    {
     "data": {
      "text/plain": [
       "9765625"
      ]
     },
     "execution_count": 2,
     "metadata": {},
     "output_type": "execute_result"
    }
   ],
   "source": [
    "#Session on Tue 29.07.2025\n",
    "\n",
    "x = 5\n",
    "y = 10\n",
    "\n",
    "type(y)\n",
    "\n",
    "# int - number with no decimals - ages, number of plans etc\n",
    "# float - number with a decimal - FTE etc\n",
    "\n",
    "# mathematical operators work on number types + - * / ** \n",
    "z = x ** y\n",
    "\n",
    "z"
   ]
  },
  {
   "cell_type": "code",
   "execution_count": 3,
   "id": "8fcc0f12",
   "metadata": {},
   "outputs": [
    {
     "data": {
      "text/plain": [
       "'510'"
      ]
     },
     "execution_count": 3,
     "metadata": {},
     "output_type": "execute_result"
    }
   ],
   "source": [
    "#Session on Tue 29.07.2025\n",
    "\n",
    "a = \"5\"\n",
    "b = \"10\"\n",
    "\n",
    "type(a)\n",
    "\n",
    "# for strings, + concatenates\n",
    "c = a + b\n",
    "\n",
    "c"
   ]
  },
  {
   "cell_type": "code",
   "execution_count": 6,
   "id": "39e01209",
   "metadata": {},
   "outputs": [
    {
     "data": {
      "text/plain": [
       "15"
      ]
     },
     "execution_count": 6,
     "metadata": {},
     "output_type": "execute_result"
    }
   ],
   "source": [
    "#Session on Tue 29.07.2025\n",
    "\n",
    "d = int(a) + int(b)\n",
    "d"
   ]
  },
  {
   "cell_type": "code",
   "execution_count": 7,
   "id": "17c8f71b",
   "metadata": {},
   "outputs": [
    {
     "name": "stdout",
     "output_type": "stream",
     "text": [
      "Ramanjit Mand\n"
     ]
    }
   ],
   "source": [
    "#Session on Tue 29.07.2025\n",
    "\n",
    "# student exercise\n",
    "\n",
    "first_name = \"Ramanjit\"\n",
    "surname = \"Mand\"\n",
    "whole_name = first_name + \" \" + surname\n",
    "print(whole_name)"
   ]
  },
  {
   "cell_type": "code",
   "execution_count": 8,
   "id": "4a9d79f4",
   "metadata": {},
   "outputs": [
    {
     "data": {
      "text/plain": [
       "'Ramanjit Mand'"
      ]
     },
     "execution_count": 8,
     "metadata": {},
     "output_type": "execute_result"
    }
   ],
   "source": [
    "#Session on Tue 29.07.2025\n",
    "\n",
    "whole_name.capitalize()\n",
    "whole_name.strip()\n",
    "whole_name.title()\n",
    "\n",
    "# Link in chat - lots of string methods for cleaning"
   ]
  },
  {
   "cell_type": "code",
   "execution_count": 9,
   "id": "28976753",
   "metadata": {},
   "outputs": [
    {
     "data": {
      "text/plain": [
       "['Ramanjit', 'Mand']"
      ]
     },
     "execution_count": 9,
     "metadata": {},
     "output_type": "execute_result"
    }
   ],
   "source": [
    "#Session on Tue 29.07.2025\n",
    "\n",
    "whole_name.split()\n",
    "\n",
    "# Converts if there's a space, comma etc between them into a list"
   ]
  },
  {
   "cell_type": "code",
   "execution_count": 10,
   "id": "97fea360",
   "metadata": {},
   "outputs": [
    {
     "data": {
      "text/plain": [
       "[2, 4]"
      ]
     },
     "execution_count": 10,
     "metadata": {},
     "output_type": "execute_result"
    }
   ],
   "source": [
    "#Session on Tue 29.07.2025\n",
    "\n",
    "# Lists\n",
    "# square brackets with each element separated by a comma (and a space for readability)\n",
    "list_1 = [1, x, a]\n",
    "list_2 = [10, 11, 12, list_1]\n",
    "type(list_1)\n",
    "list_2 # this prints list_2\n",
    "list_2[0] # print the 0th element of this list\n",
    "list_2[3] # print the last element of this list if you know how many elements there are in the list\n",
    "list_2[-1] # print the last elemts of this list if you don't know how big the list is\n",
    "\n",
    "#list_1[start:stop]\n",
    "# start is inclusive\n",
    "#stop is exclusive\n",
    "list_3 = list(range(10))\n",
    "list_3[2:5] # lists 3rd to 6th elements\n",
    "list_3[2:6:2] # starting element position.stop element position.step between i.e. in this case go in 2's\n",
    "# Python interview can ask you to step back\n",
    "\n",
    "# counting of elements in Python starts from 0"
   ]
  },
  {
   "cell_type": "code",
   "execution_count": 11,
   "id": "705e296f",
   "metadata": {},
   "outputs": [
    {
     "data": {
      "text/plain": [
       "'WOTH'"
      ]
     },
     "execution_count": 11,
     "metadata": {},
     "output_type": "execute_result"
    }
   ],
   "source": [
    "#Session on Tue 29.07.2025\n",
    "\n",
    "# Dictionaries - sometimes called hash maps\n",
    "# uses curly brackets\n",
    "# elements separated by commas \n",
    "# elements are made up of a key and a value (come in pairs)\n",
    "# keys have to be immutable objects - objects that can't be changed - string or a number\n",
    "# values can be anything \n",
    "# can be used to store tabular data and use it for mapping\n",
    "\n",
    "dict_1 = {}\n",
    "type(dict_1)\n",
    "\n",
    "dict_1 = {'Key_1':'Value_1',\n",
    "          'Key_2':'Value_2'}\n",
    "dict_1\n",
    "\n",
    "# my example\n",
    "dict_rkm = {'Key_1':1,\n",
    "            'Key_2':2}\n",
    "dict_rkm\n",
    "\n",
    "#mapping example from one column to another\n",
    "ethnicity_dict = {'WIRI':'White',\n",
    "                  'WOTH':'White',\n",
    "                  'CHNE':'Chinese'}\n",
    "ethnicity_dict\n",
    "ethnicity_dict['CHNE'] # access values from dict\n",
    "\n",
    "ethnicity_dict.keys() # access all keys\n",
    "ethnicity_dict.values() # access all values\n",
    "ethnicity_dict.items() # access all items (key and value pairs)\n",
    "\n",
    "ethnic_items = list(ethnicity_dict.items())\n",
    "ethnic_items[1][0]"
   ]
  },
  {
   "cell_type": "code",
   "execution_count": 12,
   "id": "8afb799e",
   "metadata": {},
   "outputs": [
    {
     "data": {
      "text/html": [
       "<div>\n",
       "<style scoped>\n",
       "    .dataframe tbody tr th:only-of-type {\n",
       "        vertical-align: middle;\n",
       "    }\n",
       "\n",
       "    .dataframe tbody tr th {\n",
       "        vertical-align: top;\n",
       "    }\n",
       "\n",
       "    .dataframe thead th {\n",
       "        text-align: right;\n",
       "    }\n",
       "</style>\n",
       "<table border=\"1\" class=\"dataframe\">\n",
       "  <thead>\n",
       "    <tr style=\"text-align: right;\">\n",
       "      <th></th>\n",
       "      <th>CHILD</th>\n",
       "      <th>Borough</th>\n",
       "      <th>Employer</th>\n",
       "    </tr>\n",
       "  </thead>\n",
       "  <tbody>\n",
       "    <tr>\n",
       "      <th>2</th>\n",
       "      <td>Ramanjit</td>\n",
       "      <td>Riverview</td>\n",
       "      <td>LIIA</td>\n",
       "    </tr>\n",
       "  </tbody>\n",
       "</table>\n",
       "</div>"
      ],
      "text/plain": [
       "      CHILD    Borough Employer\n",
       "2  Ramanjit  Riverview     LIIA"
      ]
     },
     "execution_count": 12,
     "metadata": {},
     "output_type": "execute_result"
    }
   ],
   "source": [
    "#Session on Tue 29.07.2025\n",
    "\n",
    "# dataframes are the most common way of intercting with and using tabular data, e.g. load csvs/xmls etc\n",
    "# use a module called Pandas to make dataframes, generally\n",
    "\n",
    "import pandas as pd # I would like Pandas imported when I run Python; shorthand pandas to pd in my code\n",
    "# reading excels or csvs to get data in\n",
    "\n",
    "# a dictionary of lists or a list of dictionaries\n",
    "# df  = pd.DataFrame() - from the pandas module get a dataframe\n",
    "df_1  = pd.DataFrame({\n",
    "    'CHILD':['Will', 'Stephen', 'Ramanjit'],\n",
    "    'Borough':['Norwich', 'Newham', 'Riverview'],\n",
    "    'Employer':['D2i', 'LIIA', 'LIIA']\n",
    "})\n",
    "df_1\n",
    "# df is a really common shorthand for 'dataframe'\n",
    "# reading excels or csvs \n",
    "\n",
    "df_2 = pd.DataFrame([{\n",
    "    'CHILD':'Will',\n",
    "    'Borough':'Norwich',\n",
    "    'Employer':'D2i'},\n",
    "    {'CHILD':'Stephen',\n",
    "     'Borough':'Newham',\n",
    "     'Employer':'LIIA'},\n",
    "    {'CHILD':'Ramanjit',\n",
    "     'Borough':'Riverview',\n",
    "     'Employer':'LIIA'}\n",
    "])\n",
    "df_2\n",
    "\n",
    "# Example 1\n",
    "df_2[df_2['Employer'] == 'LIIA'] # check if Employer column is equal to LIIA\n",
    "\n",
    "# Example 2\n",
    "condition_1 = df_2['Employer'] == 'LIIA'\n",
    "condition_1\n",
    "\n",
    "df_2[condition_1]\n",
    "\n",
    "condition_2 = df_2['Borough'] == 'Riverview'\n",
    "\n",
    "df_2[condition_1 & condition_2] # & means and (when both conditions are true)\n",
    "\n",
    "# | (pipe) means or (when at least one condition is true)\n",
    "\n",
    "# Examples of other imports you can do\n",
    "# import numpy as np \n",
    "# import matplotlib.pyplot as plt"
   ]
  },
  {
   "cell_type": "code",
   "execution_count": 13,
   "id": "ae9d0c45",
   "metadata": {},
   "outputs": [
    {
     "data": {
      "text/html": [
       "<div>\n",
       "<style scoped>\n",
       "    .dataframe tbody tr th:only-of-type {\n",
       "        vertical-align: middle;\n",
       "    }\n",
       "\n",
       "    .dataframe tbody tr th {\n",
       "        vertical-align: top;\n",
       "    }\n",
       "\n",
       "    .dataframe thead th {\n",
       "        text-align: right;\n",
       "    }\n",
       "</style>\n",
       "<table border=\"1\" class=\"dataframe\">\n",
       "  <thead>\n",
       "    <tr style=\"text-align: right;\">\n",
       "      <th></th>\n",
       "      <th>Unnamed: 0</th>\n",
       "      <th>LAchildID</th>\n",
       "      <th>UPN</th>\n",
       "      <th>FormerUPN</th>\n",
       "      <th>UPNunknown</th>\n",
       "      <th>PersonBirthDate</th>\n",
       "      <th>ExpectedPersonBirthDate</th>\n",
       "      <th>GenderCurrent</th>\n",
       "      <th>PersonDeathDate</th>\n",
       "    </tr>\n",
       "  </thead>\n",
       "  <tbody>\n",
       "    <tr>\n",
       "      <th>0</th>\n",
       "      <td>0</td>\n",
       "      <td>RND000215205141</td>\n",
       "      <td>A850728973744</td>\n",
       "      <td>NaN</td>\n",
       "      <td>NaN</td>\n",
       "      <td>2019-12-06</td>\n",
       "      <td>NaN</td>\n",
       "      <td>1</td>\n",
       "      <td>NaN</td>\n",
       "    </tr>\n",
       "    <tr>\n",
       "      <th>1</th>\n",
       "      <td>1</td>\n",
       "      <td>RND000824303014</td>\n",
       "      <td>A141396438491</td>\n",
       "      <td>NaN</td>\n",
       "      <td>NaN</td>\n",
       "      <td>2011-04-27</td>\n",
       "      <td>NaN</td>\n",
       "      <td>9</td>\n",
       "      <td>NaN</td>\n",
       "    </tr>\n",
       "    <tr>\n",
       "      <th>2</th>\n",
       "      <td>2</td>\n",
       "      <td>RND000750143123</td>\n",
       "      <td>A929946861554</td>\n",
       "      <td>NaN</td>\n",
       "      <td>NaN</td>\n",
       "      <td>2017-06-06</td>\n",
       "      <td>2019-12-06</td>\n",
       "      <td>1</td>\n",
       "      <td>NaN</td>\n",
       "    </tr>\n",
       "    <tr>\n",
       "      <th>3</th>\n",
       "      <td>3</td>\n",
       "      <td>RND000909164501</td>\n",
       "      <td>A612330267292</td>\n",
       "      <td>NaN</td>\n",
       "      <td>NaN</td>\n",
       "      <td>2014-10-03</td>\n",
       "      <td>NaN</td>\n",
       "      <td>0</td>\n",
       "      <td>NaN</td>\n",
       "    </tr>\n",
       "    <tr>\n",
       "      <th>4</th>\n",
       "      <td>4</td>\n",
       "      <td>RND000382171815</td>\n",
       "      <td>A604459366806</td>\n",
       "      <td>NaN</td>\n",
       "      <td>NaN</td>\n",
       "      <td>2019-09-25</td>\n",
       "      <td>NaN</td>\n",
       "      <td>2</td>\n",
       "      <td>NaN</td>\n",
       "    </tr>\n",
       "    <tr>\n",
       "      <th>...</th>\n",
       "      <td>...</td>\n",
       "      <td>...</td>\n",
       "      <td>...</td>\n",
       "      <td>...</td>\n",
       "      <td>...</td>\n",
       "      <td>...</td>\n",
       "      <td>...</td>\n",
       "      <td>...</td>\n",
       "      <td>...</td>\n",
       "    </tr>\n",
       "    <tr>\n",
       "      <th>327</th>\n",
       "      <td>327</td>\n",
       "      <td>RND000112711501</td>\n",
       "      <td>A465246916125</td>\n",
       "      <td>NaN</td>\n",
       "      <td>NaN</td>\n",
       "      <td>2010-07-07</td>\n",
       "      <td>NaN</td>\n",
       "      <td>2</td>\n",
       "      <td>NaN</td>\n",
       "    </tr>\n",
       "    <tr>\n",
       "      <th>328</th>\n",
       "      <td>328</td>\n",
       "      <td>RND000513120794</td>\n",
       "      <td>A540014111973</td>\n",
       "      <td>NaN</td>\n",
       "      <td>NaN</td>\n",
       "      <td>2018-08-14</td>\n",
       "      <td>NaN</td>\n",
       "      <td>2</td>\n",
       "      <td>NaN</td>\n",
       "    </tr>\n",
       "    <tr>\n",
       "      <th>329</th>\n",
       "      <td>329</td>\n",
       "      <td>RND000541643134</td>\n",
       "      <td>A549582689058</td>\n",
       "      <td>NaN</td>\n",
       "      <td>NaN</td>\n",
       "      <td>2021-12-09</td>\n",
       "      <td>NaN</td>\n",
       "      <td>51</td>\n",
       "      <td>NaN</td>\n",
       "    </tr>\n",
       "    <tr>\n",
       "      <th>330</th>\n",
       "      <td>330</td>\n",
       "      <td>RND000404939452</td>\n",
       "      <td>A889492349196</td>\n",
       "      <td>NaN</td>\n",
       "      <td>NaN</td>\n",
       "      <td>2013-07-23</td>\n",
       "      <td>NaN</td>\n",
       "      <td>2</td>\n",
       "      <td>NaN</td>\n",
       "    </tr>\n",
       "    <tr>\n",
       "      <th>331</th>\n",
       "      <td>331</td>\n",
       "      <td>RND000589802835</td>\n",
       "      <td>A877624860226</td>\n",
       "      <td>NaN</td>\n",
       "      <td>NaN</td>\n",
       "      <td>2021-10-25</td>\n",
       "      <td>NaN</td>\n",
       "      <td>9</td>\n",
       "      <td>NaN</td>\n",
       "    </tr>\n",
       "  </tbody>\n",
       "</table>\n",
       "<p>332 rows × 9 columns</p>\n",
       "</div>"
      ],
      "text/plain": [
       "     Unnamed: 0        LAchildID            UPN  FormerUPN  UPNunknown  \\\n",
       "0             0  RND000215205141  A850728973744        NaN         NaN   \n",
       "1             1  RND000824303014  A141396438491        NaN         NaN   \n",
       "2             2  RND000750143123  A929946861554        NaN         NaN   \n",
       "3             3  RND000909164501  A612330267292        NaN         NaN   \n",
       "4             4  RND000382171815  A604459366806        NaN         NaN   \n",
       "..          ...              ...            ...        ...         ...   \n",
       "327         327  RND000112711501  A465246916125        NaN         NaN   \n",
       "328         328  RND000513120794  A540014111973        NaN         NaN   \n",
       "329         329  RND000541643134  A549582689058        NaN         NaN   \n",
       "330         330  RND000404939452  A889492349196        NaN         NaN   \n",
       "331         331  RND000589802835  A877624860226        NaN         NaN   \n",
       "\n",
       "    PersonBirthDate ExpectedPersonBirthDate  GenderCurrent PersonDeathDate  \n",
       "0        2019-12-06                     NaN              1             NaN  \n",
       "1        2011-04-27                     NaN              9             NaN  \n",
       "2        2017-06-06              2019-12-06              1             NaN  \n",
       "3        2014-10-03                     NaN              0             NaN  \n",
       "4        2019-09-25                     NaN              2             NaN  \n",
       "..              ...                     ...            ...             ...  \n",
       "327      2010-07-07                     NaN              2             NaN  \n",
       "328      2018-08-14                     NaN              2             NaN  \n",
       "329      2021-12-09                     NaN             51             NaN  \n",
       "330      2013-07-23                     NaN              2             NaN  \n",
       "331      2021-10-25                     NaN              9             NaN  \n",
       "\n",
       "[332 rows x 9 columns]"
      ]
     },
     "execution_count": 13,
     "metadata": {},
     "output_type": "execute_result"
    }
   ],
   "source": [
    "#Session on Tue 29.07.2025\n",
    "\n",
    "url = 'https://raw.githubusercontent.com/data-to-insight/ERN-sessions/refs/heads/main/data/ChildIdentifiers.csv' # You need '' around the url\n",
    "# This is some sample csv data\n",
    "\n",
    "child_identifiers = pd.read_csv(url)\n",
    "\n",
    "child_identifiers\n"
   ]
  },
  {
   "cell_type": "code",
   "execution_count": 15,
   "id": "420929e1",
   "metadata": {},
   "outputs": [
    {
     "name": "stdout",
     "output_type": "stream",
     "text": [
      "     Unnamed: 0        LAchildID            UPN  FormerUPN  UPNunknown  \\\n",
      "0             0  RND000215205141  A850728973744        NaN         NaN   \n",
      "1             1  RND000824303014  A141396438491        NaN         NaN   \n",
      "2             2  RND000750143123  A929946861554        NaN         NaN   \n",
      "3             3  RND000909164501  A612330267292        NaN         NaN   \n",
      "4             4  RND000382171815  A604459366806        NaN         NaN   \n",
      "..          ...              ...            ...        ...         ...   \n",
      "327         327  RND000112711501  A465246916125        NaN         NaN   \n",
      "328         328  RND000513120794  A540014111973        NaN         NaN   \n",
      "329         329  RND000541643134  A549582689058        NaN         NaN   \n",
      "330         330  RND000404939452  A889492349196        NaN         NaN   \n",
      "331         331  RND000589802835  A877624860226        NaN         NaN   \n",
      "\n",
      "    PersonBirthDate ExpectedPersonBirthDate  GenderCurrent PersonDeathDate  \n",
      "0        2019-12-06                     NaN              1             NaN  \n",
      "1        2011-04-27                     NaN              9             NaN  \n",
      "2        2017-06-06              2019-12-06              1             NaN  \n",
      "3        2014-10-03                     NaN              0             NaN  \n",
      "4        2019-09-25                     NaN              2             NaN  \n",
      "..              ...                     ...            ...             ...  \n",
      "327      2010-07-07                     NaN              2             NaN  \n",
      "328      2018-08-14                     NaN              2             NaN  \n",
      "329      2021-12-09                     NaN             51             NaN  \n",
      "330      2013-07-23                     NaN              2             NaN  \n",
      "331      2021-10-25                     NaN              9             NaN  \n",
      "\n",
      "[332 rows x 9 columns]\n",
      "5\n",
      "10\n",
      "15\n"
     ]
    }
   ],
   "source": [
    "#Session on Tue 29.07.2025\n",
    "\n",
    "child_identifiers\n",
    "print(child_identifiers)\n",
    "\n",
    "x = 5\n",
    "print(x)\n",
    "\n",
    "y = 10\n",
    "print(y)\n",
    "\n",
    "z = x + y\n",
    "print(z)"
   ]
  }
 ],
 "metadata": {
  "kernelspec": {
   "display_name": "Python 3",
   "language": "python",
   "name": "python3"
  },
  "language_info": {
   "codemirror_mode": {
    "name": "ipython",
    "version": 3
   },
   "file_extension": ".py",
   "mimetype": "text/x-python",
   "name": "python",
   "nbconvert_exporter": "python",
   "pygments_lexer": "ipython3",
   "version": "3.12.1"
  }
 },
 "nbformat": 4,
 "nbformat_minor": 5
}
